{
 "cells": [
  {
   "cell_type": "code",
   "execution_count": null,
   "id": "bb7ae6d3-1d64-4cfe-b289-bfba11f00a0c",
   "metadata": {},
   "outputs": [
    {
     "ename": "",
     "evalue": "",
     "output_type": "error",
     "traceback": [
      "\u001b[1;31mRunning cells with 'Python 3.13.3' requires the ipykernel package.\n",
      "\u001b[1;31m<a href='command:jupyter.createPythonEnvAndSelectController'>Create a Python Environment</a> with the required packages."
     ]
    }
   ],
   "source": [
    "# 1. Import libraries\n",
    "import opendatasets as od\n",
    "import pandas as pd\n",
    "import numpy as np\n",
    "import os\n",
    "\n",
    "# 2. Download dataset (you'll need your Kaggle credentials)\n",
    "dataset_url = 'https://www.kaggle.com/datasets/godfredaddaiamoako/trotro'\n",
    "od.download_kaggle(dataset_url)\n",
    "\n",
    "# 3. Load the data\n",
    "data_dir = 'trotro'  # or the directory where data was downloaded\n",
    "data_files = [f for f in os.listdir(data_dir) if f.endswith('.csv')]\n",
    "\n",
    "# 4. Basic data cleaning\n",
    "def clean_data(df):\n",
    "    # Handle missing values\n",
    "    df = df.dropna(how='all')  # Drop completely empty rows\n",
    "    df = df.fillna('Unknown')  # Fill other missing values\n",
    "    \n",
    "    # Convert data types\n",
    "    for col in df.select_dtypes(include=['object']).columns:\n",
    "        df[col] = df[col].astype(str)\n",
    "    \n",
    "    return df\n",
    "\n",
    "# 5. Process each file\n",
    "for file in data_files:\n",
    "    file_path = os.path.join(data_dir, file)\n",
    "    df = pd.read_csv(file_path)\n",
    "    df_clean = clean_data(df)\n",
    "    df_clean.to_csv(f'cleaned_{file}', index=False)\n",
    "\n",
    "\n",
    "# Basic analysis\n",
    "for file in data_files:\n",
    "    df = pd.read_csv(f'cleaned_{file}')\n",
    "    print(f\"\\n--- {file} ---\")\n",
    "    print(\"Shape:\", df.shape)\n",
    "    print(\"\\nMissing values:\")\n",
    "    print(df.isnull().sum())\n",
    "    print(\"\\nData types:\")\n",
    "    print(df.dtypes)\n",
    "    print(\"\\nSample data:\")\n",
    "    display(df.head())\n",
    "\n",
    "# Example: Combine data from different files if needed\n",
    "# This will depend on your specific dataset structure\n",
    "\n",
    "# Save combined data\n",
    "combined_data.to_csv('combined_trotro_data.csv', index=False)\n",
    "\n"
   ]
  },
  {
   "cell_type": "code",
   "execution_count": null,
   "id": "306adb1f-22fb-4dc8-8456-7be913cea65b",
   "metadata": {},
   "outputs": [],
   "source": []
  }
 ],
 "metadata": {
  "kernelspec": {
   "display_name": "Python 3",
   "language": "python",
   "name": "python3"
  },
  "language_info": {
   "codemirror_mode": {
    "name": "ipython",
    "version": 3
   },
   "file_extension": ".py",
   "mimetype": "text/x-python",
   "name": "python",
   "nbconvert_exporter": "python",
   "pygments_lexer": "ipython3",
   "version": "3.13.3"
  }
 },
 "nbformat": 4,
 "nbformat_minor": 5
}
